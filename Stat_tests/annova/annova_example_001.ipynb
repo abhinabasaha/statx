{
 "cells": [
  {
   "cell_type": "code",
   "execution_count": 1,
   "id": "9653ecbf",
   "metadata": {},
   "outputs": [],
   "source": [
    "import numpy as np\n",
    "import pandas as pd\n",
    "import matplotlib.pyplot as plt\n",
    "import scipy.stats as stats\n",
    "import statsmodels.api as sm"
   ]
  },
  {
   "cell_type": "code",
   "execution_count": 2,
   "id": "77ead43d",
   "metadata": {},
   "outputs": [],
   "source": [
    "np.random.seed(12)"
   ]
  },
  {
   "cell_type": "code",
   "execution_count": 3,
   "id": "76102e6b",
   "metadata": {},
   "outputs": [],
   "source": [
    "races = ['asian','black','mongol','white','other']"
   ]
  },
  {
   "cell_type": "code",
   "execution_count": 4,
   "id": "5595463f",
   "metadata": {},
   "outputs": [],
   "source": [
    "voter_race = np.random.choice(\n",
    "                #Parameters\n",
    "                # ----------\n",
    "                # a : 1-D array-like or int\n",
    "                #     If an ndarray, a random sample is generated from its elements.\n",
    "                #     If an int, the random sample is generated as if it were ``np.arange(a)``\n",
    "                # size : int or tuple of ints, optional\n",
    "                #     Output shape.  If the given shape is, e.g., ``(m, n, k)``, then\n",
    "                #     ``m * n * k`` samples are drawn.  Default is None, in which case a\n",
    "                #     single value is returned.\n",
    "                # replace : boolean, optional\n",
    "                #     Whether the sample is with or without replacement. Default is True,\n",
    "                #     meaning that a value of ``a`` can be selected multiple times.\n",
    "                # p : 1-D array-like, optional\n",
    "                #     The probabilities associated with each entry in a.\n",
    "                #     If not given, the sample assumes a uniform distribution over all\n",
    "                #     entries in ``a``.\n",
    "                # Returns\n",
    "                # -------\n",
    "                # samples : single item or ndarray\n",
    "                #     The generated random samples\n",
    "\n",
    "        a=races,\n",
    "     size=100,\n",
    "        p=[0.18,0.12,0.20,0.35,0.15]\n",
    ")"
   ]
  },
  {
   "cell_type": "code",
   "execution_count": 5,
   "id": "5e3d68af",
   "metadata": {},
   "outputs": [
    {
     "data": {
      "text/plain": [
       "array(['asian', 'white', 'black', 'white', 'asian', 'other', 'other',\n",
       "       'asian', 'other', 'asian', 'black', 'white', 'other', 'other',\n",
       "       'asian', 'white', 'white', 'mongol', 'white', 'asian', 'white',\n",
       "       'asian', 'asian', 'asian', 'mongol', 'white', 'mongol', 'white',\n",
       "       'black', 'white', 'white', 'mongol', 'mongol', 'other', 'white',\n",
       "       'other', 'white', 'white', 'mongol', 'mongol', 'mongol', 'other',\n",
       "       'asian', 'other', 'mongol', 'mongol', 'mongol', 'mongol', 'mongol',\n",
       "       'asian', 'asian', 'white', 'white', 'asian', 'mongol', 'black',\n",
       "       'asian', 'white', 'mongol', 'asian', 'white', 'white', 'asian',\n",
       "       'black', 'white', 'mongol', 'white', 'mongol', 'other', 'white',\n",
       "       'white', 'mongol', 'mongol', 'other', 'black', 'other', 'asian',\n",
       "       'white', 'asian', 'white', 'white', 'other', 'other', 'mongol',\n",
       "       'white', 'other', 'white', 'mongol', 'mongol', 'black', 'other',\n",
       "       'mongol', 'other', 'other', 'white', 'asian', 'other', 'other',\n",
       "       'asian', 'white'], dtype='<U6')"
      ]
     },
     "execution_count": 5,
     "metadata": {},
     "output_type": "execute_result"
    }
   ],
   "source": [
    "voter_race"
   ]
  },
  {
   "cell_type": "code",
   "execution_count": 6,
   "id": "dc3d8030",
   "metadata": {},
   "outputs": [],
   "source": [
    "voter_age = stats.poisson.rvs(loc=18,\n",
    "                             mu=30,\n",
    "                             size=100)"
   ]
  },
  {
   "cell_type": "code",
   "execution_count": 7,
   "id": "37b4b810",
   "metadata": {},
   "outputs": [
    {
     "data": {
      "text/plain": [
       "array([46, 50, 45, 42, 46, 56, 47, 48, 53, 42, 53, 41, 44, 51, 46, 42, 39,\n",
       "       57, 45, 48, 46, 50, 41, 50, 45, 50, 51, 44, 50, 46, 52, 57, 47, 53,\n",
       "       50, 48, 48, 41, 52, 40, 48, 44, 49, 51, 46, 45, 51, 43, 53, 50, 49,\n",
       "       54, 56, 41, 39, 46, 40, 48, 48, 46, 53, 50, 45, 46, 43, 52, 45, 34,\n",
       "       42, 43, 45, 50, 47, 50, 56, 46, 47, 51, 55, 38, 44, 41, 49, 44, 48,\n",
       "       47, 50, 49, 53, 42, 41, 48, 41, 48, 58, 42, 46, 43, 45, 43])"
      ]
     },
     "execution_count": 7,
     "metadata": {},
     "output_type": "execute_result"
    }
   ],
   "source": [
    "voter_age"
   ]
  },
  {
   "cell_type": "code",
   "execution_count": 8,
   "id": "1dfd34a5",
   "metadata": {},
   "outputs": [
    {
     "data": {
      "text/html": [
       "<div>\n",
       "<style scoped>\n",
       "    .dataframe tbody tr th:only-of-type {\n",
       "        vertical-align: middle;\n",
       "    }\n",
       "\n",
       "    .dataframe tbody tr th {\n",
       "        vertical-align: top;\n",
       "    }\n",
       "\n",
       "    .dataframe thead th {\n",
       "        text-align: right;\n",
       "    }\n",
       "</style>\n",
       "<table border=\"1\" class=\"dataframe\">\n",
       "  <thead>\n",
       "    <tr style=\"text-align: right;\">\n",
       "      <th></th>\n",
       "      <th>Race</th>\n",
       "      <th>Age</th>\n",
       "    </tr>\n",
       "  </thead>\n",
       "  <tbody>\n",
       "    <tr>\n",
       "      <th>0</th>\n",
       "      <td>asian</td>\n",
       "      <td>46</td>\n",
       "    </tr>\n",
       "    <tr>\n",
       "      <th>1</th>\n",
       "      <td>white</td>\n",
       "      <td>50</td>\n",
       "    </tr>\n",
       "    <tr>\n",
       "      <th>2</th>\n",
       "      <td>black</td>\n",
       "      <td>45</td>\n",
       "    </tr>\n",
       "    <tr>\n",
       "      <th>3</th>\n",
       "      <td>white</td>\n",
       "      <td>42</td>\n",
       "    </tr>\n",
       "    <tr>\n",
       "      <th>4</th>\n",
       "      <td>asian</td>\n",
       "      <td>46</td>\n",
       "    </tr>\n",
       "    <tr>\n",
       "      <th>...</th>\n",
       "      <td>...</td>\n",
       "      <td>...</td>\n",
       "    </tr>\n",
       "    <tr>\n",
       "      <th>95</th>\n",
       "      <td>asian</td>\n",
       "      <td>42</td>\n",
       "    </tr>\n",
       "    <tr>\n",
       "      <th>96</th>\n",
       "      <td>other</td>\n",
       "      <td>46</td>\n",
       "    </tr>\n",
       "    <tr>\n",
       "      <th>97</th>\n",
       "      <td>other</td>\n",
       "      <td>43</td>\n",
       "    </tr>\n",
       "    <tr>\n",
       "      <th>98</th>\n",
       "      <td>asian</td>\n",
       "      <td>45</td>\n",
       "    </tr>\n",
       "    <tr>\n",
       "      <th>99</th>\n",
       "      <td>white</td>\n",
       "      <td>43</td>\n",
       "    </tr>\n",
       "  </tbody>\n",
       "</table>\n",
       "<p>100 rows × 2 columns</p>\n",
       "</div>"
      ],
      "text/plain": [
       "     Race  Age\n",
       "0   asian   46\n",
       "1   white   50\n",
       "2   black   45\n",
       "3   white   42\n",
       "4   asian   46\n",
       "..    ...  ...\n",
       "95  asian   42\n",
       "96  other   46\n",
       "97  other   43\n",
       "98  asian   45\n",
       "99  white   43\n",
       "\n",
       "[100 rows x 2 columns]"
      ]
     },
     "execution_count": 8,
     "metadata": {},
     "output_type": "execute_result"
    }
   ],
   "source": [
    "voter_frame = pd.DataFrame({\"Race\":voter_race,\"Age\":voter_age})\n",
    "voter_frame"
   ]
  },
  {
   "cell_type": "code",
   "execution_count": 9,
   "id": "2baf65fe",
   "metadata": {},
   "outputs": [
    {
     "data": {
      "text/plain": [
       "{'asian': [0, 4, 7, 9, 14, 19, 21, 22, 23, 42, 49, 50, 53, 56, 59, 62, 76, 78, 95, 98], 'black': [2, 10, 28, 55, 63, 74, 89], 'mongol': [17, 24, 26, 31, 32, 38, 39, 40, 44, 45, 46, 47, 48, 54, 58, 65, 67, 71, 72, 83, 87, 88, 91], 'other': [5, 6, 8, 12, 13, 33, 35, 41, 43, 68, 73, 75, 81, 82, 85, 90, 92, 93, 96, 97], 'white': [1, 3, 11, 15, 16, 18, 20, 25, 27, 29, 30, 34, 36, 37, 51, 52, 57, 60, 61, 64, 66, 69, 70, 77, 79, 80, 84, 86, 94, 99]}"
      ]
     },
     "execution_count": 9,
     "metadata": {},
     "output_type": "execute_result"
    }
   ],
   "source": [
    "group = voter_frame.groupby(\"Race\").groups\n",
    "group"
   ]
  },
  {
   "cell_type": "code",
   "execution_count": 10,
   "id": "250e78da",
   "metadata": {},
   "outputs": [],
   "source": [
    "asian = voter_age[group[\"asian\"]]\n",
    "black = voter_age[group[\"black\"]]\n",
    "mongol = voter_age[group[\"mongol\"]]\n",
    "white = voter_age[group[\"white\"]]\n",
    "other = voter_age[group[\"other\"]]"
   ]
  },
  {
   "cell_type": "code",
   "execution_count": 11,
   "id": "abe79011",
   "metadata": {},
   "outputs": [
    {
     "data": {
      "text/plain": [
       "F_onewayResult(statistic=0.3866286902322793, pvalue=0.8177306492387393)"
      ]
     },
     "execution_count": 11,
     "metadata": {},
     "output_type": "execute_result"
    }
   ],
   "source": [
    "stats.f_oneway(asian, black, mongol, white, other)"
   ]
  },
  {
   "cell_type": "code",
   "execution_count": null,
   "id": "ee949d23",
   "metadata": {},
   "outputs": [],
   "source": []
  }
 ],
 "metadata": {
  "kernelspec": {
   "display_name": "Python 3 (ipykernel)",
   "language": "python",
   "name": "python3"
  },
  "language_info": {
   "codemirror_mode": {
    "name": "ipython",
    "version": 3
   },
   "file_extension": ".py",
   "mimetype": "text/x-python",
   "name": "python",
   "nbconvert_exporter": "python",
   "pygments_lexer": "ipython3",
   "version": "3.10.11"
  }
 },
 "nbformat": 4,
 "nbformat_minor": 5
}
